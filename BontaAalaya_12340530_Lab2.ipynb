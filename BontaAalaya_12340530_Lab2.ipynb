{
  "cells": [
    {
      "cell_type": "code",
      "execution_count": null,
      "metadata": {
        "id": "zzxafJSxap7i"
      },
      "outputs": [],
      "source": [
        "#1. Problem: Find Longest Substring Without Repeating Characters"
      ]
    },
    {
      "cell_type": "code",
      "execution_count": null,
      "metadata": {
        "colab": {
          "base_uri": "https://localhost:8080/"
        },
        "id": "bPQPRS0za28X",
        "outputId": "a163bc63-aa13-499a-e6c7-e3cb487bcbac"
      },
      "outputs": [
        {
          "name": "stdout",
          "output_type": "stream",
          "text": [
            "Enter a string: abcabcbb\n",
            "The length of the longest substring without repeating characters is 3\n"
          ]
        }
      ],
      "source": [
        "def longest_substring(s):\n",
        "    front = 0\n",
        "    max_length = 0\n",
        "    char_index = {} #store last index of character\n",
        "\n",
        "    for back in range(len(s)):\n",
        "      if s[back] in char_index and char_index[s[back]] >= front:\n",
        "        front = char_index[s[back]]+1 # moving front past previous occurrence\n",
        "      char_index[s[back]]=back #updating last seen\n",
        "      max_length= max(max_length, len(s[front:back+1])) #length of substring using slicing\n",
        "\n",
        "    return max_length\n",
        "\n",
        "s = input(\"Enter a string: \")\n",
        "print(f\"The length of the longest substring without repeating characters is {longest_substring(s)}\")"
      ]
    },
    {
      "cell_type": "code",
      "execution_count": null,
      "metadata": {
        "id": "JGaYq5pXbqAR"
      },
      "outputs": [],
      "source": [
        "#3. Problem: Write a Python program to solve the quadratic equation of the form ax^2 + bx + c = 0 for given a, b, and c. The program should return the two roots (if they exist) or a message if the equation has no real roots."
      ]
    },
    {
      "cell_type": "code",
      "execution_count": null,
      "metadata": {
        "colab": {
          "base_uri": "https://localhost:8080/"
        },
        "id": "ATgMFKVUge7P",
        "outputId": "ad99e16a-58e5-4b31-8b5c-b725e9360c8a"
      },
      "outputs": [
        {
          "name": "stdout",
          "output_type": "stream",
          "text": [
            "The roots are: (2.0, 1.0)\n"
          ]
        }
      ],
      "source": [
        "from math import sqrt\n",
        "\n",
        "#check if b^2-4ac > 0 (2 real roots) or = 0 (one real root) or < 0 (no real roots)\n",
        "\n",
        "def solve_quadratic(a, b, c):\n",
        "    discriminant = b**2 - 4 * a * c\n",
        "    if discriminant > 0:\n",
        "       root1 = (-b+sqrt(b**2-4*a*c))/2*a\n",
        "       root2 = (-b-sqrt(b**2-4*a*c))/2*a\n",
        "       return root1, root2\n",
        "    elif discriminant == 0:\n",
        "        root = -b/2*a\n",
        "        return root\n",
        "    else:\n",
        "        return \"No real roots\"\n",
        "\n",
        "a, b, c = 1, -3, 2\n",
        "result = solve_quadratic(a, b, c)\n",
        "print(f\"The roots are: {result}\")"
      ]
    },
    {
      "cell_type": "code",
      "execution_count": null,
      "metadata": {
        "id": "LLUhMosKh-Je"
      },
      "outputs": [],
      "source": [
        "#5. Problem: Write a Python program to find all Armstrong numbers between two numbers n1 and n2."
      ]
    },
    {
      "cell_type": "code",
      "execution_count": null,
      "metadata": {
        "colab": {
          "base_uri": "https://localhost:8080/"
        },
        "id": "ssS7Hz3HjYHK",
        "outputId": "a8701ea0-4307-42d2-a45f-181f9341cf3e"
      },
      "outputs": [
        {
          "name": "stdout",
          "output_type": "stream",
          "text": [
            "Armstrong numbers between 100 and 999: [153, 370, 371, 407]\n"
          ]
        }
      ],
      "source": [
        "def is_armstrong(n):\n",
        "    num_digits = 0\n",
        "    temp = n\n",
        "    while temp > 0:\n",
        "      num_digits += 1\n",
        "      temp //= 10\n",
        "\n",
        "    sum_of_powers = 0\n",
        "    temp = n\n",
        "    while temp > 0:\n",
        "      digit = temp % 10\n",
        "      sum_of_powers += digit ** num_digits\n",
        "      temp //= 10\n",
        "    return sum_of_powers == n\n",
        "\n",
        "def armstrong_numbers_in_range(n1, n2):\n",
        "  armstrong_numbers = []\n",
        "  for n in range(n1, n2+1):\n",
        "      if is_armstrong(n):\n",
        "          armstrong_numbers.append(n)\n",
        "  return armstrong_numbers\n",
        "\n",
        "n1, n2 = 100, 999\n",
        "print(f\"Armstrong numbers between {n1} and {n2}: {armstrong_numbers_in_range(n1, n2)}\")"
      ]
    },
    {
      "cell_type": "code",
      "execution_count": null,
      "metadata": {
        "id": "YsfGGN9vnCN_"
      },
      "outputs": [],
      "source": [
        "# 6. Problem: Create a program that simulates a simple bank account system. The program should allow a user to perform the following operations:\n",
        "# a. Check balance\n",
        "# b. Deposit money\n",
        "# c. Withdraw money\n",
        "# d. Exit the program\n",
        "# Implement this system using loops to keep the program running until the user decides to exit."
      ]
    },
    {
      "cell_type": "code",
      "execution_count": null,
      "metadata": {
        "colab": {
          "background_save": true,
          "base_uri": "https://localhost:8080/"
        },
        "id": "Kycg1nFdn_9e",
        "outputId": "78f392d7-f11c-4a13-c5c7-1eacdd1dbe31"
      },
      "outputs": [
        {
          "name": "stdout",
          "output_type": "stream",
          "text": [
            "\n",
            "--- Bank Account System ---\n",
            "1. Check Balance\n",
            "2. Deposit Money\n",
            "3. Withdraw Money\n",
            "4. Exit\n",
            "Rs.500.0 deposited\n",
            "\n",
            "--- Bank Account System ---\n",
            "1. Check Balance\n",
            "2. Deposit Money\n",
            "3. Withdraw Money\n",
            "4. Exit\n",
            "Your balance is Rs.1500.0\n",
            "\n",
            "--- Bank Account System ---\n",
            "1. Check Balance\n",
            "2. Deposit Money\n",
            "3. Withdraw Money\n",
            "4. Exit\n",
            "Exiting the system. Goodbye!\n"
          ]
        }
      ],
      "source": [
        "def bank_account_system():\n",
        "    balance = 1000  # initial balance\n",
        "    while True:\n",
        "        print(\"\\n--- Bank Account System ---\")\n",
        "        print(\"1. Check Balance\")\n",
        "        print(\"2. Deposit Money\")\n",
        "        print(\"3. Withdraw Money\")\n",
        "        print(\"4. Exit\")\n",
        "        choice = int(input(\"Enter your choice: \"))\n",
        "\n",
        "        if choice == 1:\n",
        "            print(f\"Your balance is Rs.{balance}\")\n",
        "        elif choice == 2:\n",
        "            amt = float(input(\"Enter the amt to deposit: Rs.\"))\n",
        "            balance += amt\n",
        "            print(f\"Rs.{amt} deposited\")\n",
        "        elif choice == 3:\n",
        "            amt = float(input(\"Enter the amt to withdraw: Rs.\"))\n",
        "            if amt <= balance:\n",
        "                balance -= amt\n",
        "                print(f\"Rs.{amt} withdrawn\")\n",
        "            else:\n",
        "                print(\"not enough money\")\n",
        "        elif choice == 4:\n",
        "            print(\"Exiting the system. Goodbye!\")\n",
        "            break\n",
        "        else:\n",
        "            print(\"Invalid choice. Please try again.\")\n",
        "\n",
        "bank_account_system()\n"
      ]
    },
    {
      "cell_type": "code",
      "source": [
        "#Calculate the mean, median, mode, standard deviation, and variance for the dataset:"
      ],
      "metadata": {
        "id": "Q6r0LtAWPp6A"
      },
      "execution_count": null,
      "outputs": []
    },
    {
      "cell_type": "code",
      "source": [
        "import statistics as sts\n",
        "\n",
        "data = [5.0,10.0,15.0,20.0,25.0,30.0,35.0]\n",
        "\n",
        "mean_data = sts.mean(data)\n",
        "median_data = sts.median(data)\n",
        "mode_data = sts.mode(data)\n",
        "var_data = sts.variance(data)\n",
        "stddev_data = var_data ** 0.5\n",
        "\n",
        "print(f\"mean is {mean_data}\")\n",
        "print(f\"median is {median_data}\")\n",
        "print(f\"mode is {mode_data}\")\n",
        "print(f\"variance is {var_data}\")\n",
        "print(f\"standard deviation is {stddev_data}\")"
      ],
      "metadata": {
        "colab": {
          "base_uri": "https://localhost:8080/"
        },
        "id": "FQGYsPmIPqEw",
        "outputId": "3580ead3-bf4a-4729-f06c-98410e3c298b"
      },
      "execution_count": null,
      "outputs": [
        {
          "output_type": "stream",
          "name": "stdout",
          "text": [
            "mean is 20.0\n",
            "median is 20.0\n",
            "mode is 5.0\n",
            "variance is 116.66666666666667\n",
            "standard deviation is 10.801234497346433\n"
          ]
        }
      ]
    },
    {
      "cell_type": "code",
      "source": [
        "#Generate a random data set of size 100 with values between 1 and 50. Calculate all the statistical measures discussed above."
      ],
      "metadata": {
        "id": "796DMpp4Qjid"
      },
      "execution_count": null,
      "outputs": []
    },
    {
      "cell_type": "code",
      "source": [
        "import random\n",
        "import numpy as np\n",
        "\n",
        "data = [random.randint(1,50) for _ in range(100)]\n",
        "\n",
        "mean_data = np.mean(data)\n",
        "median_data = np.median(data)\n",
        "mode_data = sts.mode(data)\n",
        "var_data = sts.variance(data)\n",
        "stddev_data = var_data ** 0.5\n",
        "\n",
        "print(f\"mean is {mean_data}\")\n",
        "print(f\"median is {median_data}\")\n",
        "print(f\"mode is {mode_data}\")\n",
        "print(f\"variance is {var_data}\")\n",
        "print(f\"standard deviation is {stddev_data}\")"
      ],
      "metadata": {
        "colab": {
          "base_uri": "https://localhost:8080/"
        },
        "id": "w41n0Ea3QhJO",
        "outputId": "06adc547-a7ed-4016-ce0b-bf2b8c5160e9"
      },
      "execution_count": null,
      "outputs": [
        {
          "output_type": "stream",
          "name": "stdout",
          "text": [
            "mean is 25.54\n",
            "median is 25.5\n",
            "mode is 29\n",
            "variance is 153.32161616161616\n",
            "standard deviation is 12.382310614809183\n"
          ]
        }
      ]
    },
    {
      "cell_type": "code",
      "source": [
        "#Create a 5x5 array filled with random integers from 0 to 10."
      ],
      "metadata": {
        "id": "WNXWSibhOQgq"
      },
      "execution_count": null,
      "outputs": []
    },
    {
      "cell_type": "code",
      "source": [
        "data = np.random.randint(0,10,size=(5,5))\n",
        "row_vec = np.array([1,1,2,3,5])\n",
        "new = data + row_vec\n",
        "multi_array = new*row_vec.reshape(5,1)\n",
        "print(multi_array)"
      ],
      "metadata": {
        "colab": {
          "base_uri": "https://localhost:8080/"
        },
        "id": "rc9YW4WDSGo3",
        "outputId": "ed40f4cb-fbed-4644-e3d9-3b8c93651d9a"
      },
      "execution_count": null,
      "outputs": [
        {
          "output_type": "stream",
          "name": "stdout",
          "text": [
            "[[ 6  4  3  9  6]\n",
            " [ 9 10  3  7  8]\n",
            " [18 14 14  6 28]\n",
            " [24 27 27 21 30]\n",
            " [40 50 30 25 55]]\n"
          ]
        }
      ]
    },
    {
      "cell_type": "code",
      "source": [
        "# Array Manipulation"
      ],
      "metadata": {
        "id": "u4yRbImuS8fs"
      },
      "execution_count": null,
      "outputs": []
    },
    {
      "cell_type": "code",
      "source": [
        "data = np.random.randint(1,20,size=(1,20))\n",
        "new = data.reshape(4,5)\n",
        "newnew = new.flatten()\n",
        "\n",
        "mean_data = np.mean(newnew)\n",
        "var_data = sts.variance(newnew.tolist())\n",
        "stddev_data = var_data ** 0.5\n",
        "sum_data = np.sum(newnew)\n",
        "\n",
        "print(f\"mean is {mean_data}\")\n",
        "print(f\"standard deviation is {stddev_data}\")\n",
        "print(f\"sum is {sum_data}\")"
      ],
      "metadata": {
        "colab": {
          "base_uri": "https://localhost:8080/"
        },
        "id": "N6n8zVPjUjBA",
        "outputId": "c9f6125c-8374-43bc-ec60-f42d539a20d7"
      },
      "execution_count": null,
      "outputs": [
        {
          "output_type": "stream",
          "name": "stdout",
          "text": [
            "mean is 10.75\n",
            "standard deviation is 5.369259480451755\n",
            "sum is 215\n"
          ]
        }
      ]
    }
  ],
  "metadata": {
    "colab": {
      "provenance": []
    },
    "kernelspec": {
      "display_name": "Python 3",
      "name": "python3"
    },
    "language_info": {
      "name": "python"
    }
  },
  "nbformat": 4,
  "nbformat_minor": 0
}