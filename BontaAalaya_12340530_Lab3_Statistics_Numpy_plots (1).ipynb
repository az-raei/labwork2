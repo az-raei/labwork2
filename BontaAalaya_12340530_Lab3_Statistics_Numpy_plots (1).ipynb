{
  "nbformat": 4,
  "nbformat_minor": 0,
  "metadata": {
    "colab": {
      "provenance": []
    },
    "kernelspec": {
      "name": "python3",
      "display_name": "Python 3"
    },
    "language_info": {
      "name": "python"
    }
  },
  "cells": [
    {
      "cell_type": "code",
      "source": [
        "# 1. (10 points) Create a Python script to:\n",
        "# Read a data set from a CSV file (e.g., data.csv).\n",
        "# Compute the mean, median, mode, standard deviation, and variance for the numerical columns.\n",
        "# Save the computed statistics to a new CSV file (e.g., statistics_summary.csv)."
      ],
      "metadata": {
        "id": "6cax-nd1eLOH"
      },
      "execution_count": null,
      "outputs": []
    },
    {
      "cell_type": "code",
      "execution_count": null,
      "metadata": {
        "colab": {
          "base_uri": "https://localhost:8080/",
          "height": 108
        },
        "id": "Jk1DFGJwDT8B",
        "outputId": "f4ecd864-a660-4e61-8cef-f1b87bfe995c"
      },
      "outputs": [
        {
          "output_type": "stream",
          "name": "stdout",
          "text": [
            "Please upload the data.csv file.\n"
          ]
        },
        {
          "output_type": "display_data",
          "data": {
            "text/plain": [
              "<IPython.core.display.HTML object>"
            ],
            "text/html": [
              "\n",
              "     <input type=\"file\" id=\"files-6b0f023a-dca0-47ab-9c21-855a063a87be\" name=\"files[]\" multiple disabled\n",
              "        style=\"border:none\" />\n",
              "     <output id=\"result-6b0f023a-dca0-47ab-9c21-855a063a87be\">\n",
              "      Upload widget is only available when the cell has been executed in the\n",
              "      current browser session. Please rerun this cell to enable.\n",
              "      </output>\n",
              "      <script>// Copyright 2017 Google LLC\n",
              "//\n",
              "// Licensed under the Apache License, Version 2.0 (the \"License\");\n",
              "// you may not use this file except in compliance with the License.\n",
              "// You may obtain a copy of the License at\n",
              "//\n",
              "//      http://www.apache.org/licenses/LICENSE-2.0\n",
              "//\n",
              "// Unless required by applicable law or agreed to in writing, software\n",
              "// distributed under the License is distributed on an \"AS IS\" BASIS,\n",
              "// WITHOUT WARRANTIES OR CONDITIONS OF ANY KIND, either express or implied.\n",
              "// See the License for the specific language governing permissions and\n",
              "// limitations under the License.\n",
              "\n",
              "/**\n",
              " * @fileoverview Helpers for google.colab Python module.\n",
              " */\n",
              "(function(scope) {\n",
              "function span(text, styleAttributes = {}) {\n",
              "  const element = document.createElement('span');\n",
              "  element.textContent = text;\n",
              "  for (const key of Object.keys(styleAttributes)) {\n",
              "    element.style[key] = styleAttributes[key];\n",
              "  }\n",
              "  return element;\n",
              "}\n",
              "\n",
              "// Max number of bytes which will be uploaded at a time.\n",
              "const MAX_PAYLOAD_SIZE = 100 * 1024;\n",
              "\n",
              "function _uploadFiles(inputId, outputId) {\n",
              "  const steps = uploadFilesStep(inputId, outputId);\n",
              "  const outputElement = document.getElementById(outputId);\n",
              "  // Cache steps on the outputElement to make it available for the next call\n",
              "  // to uploadFilesContinue from Python.\n",
              "  outputElement.steps = steps;\n",
              "\n",
              "  return _uploadFilesContinue(outputId);\n",
              "}\n",
              "\n",
              "// This is roughly an async generator (not supported in the browser yet),\n",
              "// where there are multiple asynchronous steps and the Python side is going\n",
              "// to poll for completion of each step.\n",
              "// This uses a Promise to block the python side on completion of each step,\n",
              "// then passes the result of the previous step as the input to the next step.\n",
              "function _uploadFilesContinue(outputId) {\n",
              "  const outputElement = document.getElementById(outputId);\n",
              "  const steps = outputElement.steps;\n",
              "\n",
              "  const next = steps.next(outputElement.lastPromiseValue);\n",
              "  return Promise.resolve(next.value.promise).then((value) => {\n",
              "    // Cache the last promise value to make it available to the next\n",
              "    // step of the generator.\n",
              "    outputElement.lastPromiseValue = value;\n",
              "    return next.value.response;\n",
              "  });\n",
              "}\n",
              "\n",
              "/**\n",
              " * Generator function which is called between each async step of the upload\n",
              " * process.\n",
              " * @param {string} inputId Element ID of the input file picker element.\n",
              " * @param {string} outputId Element ID of the output display.\n",
              " * @return {!Iterable<!Object>} Iterable of next steps.\n",
              " */\n",
              "function* uploadFilesStep(inputId, outputId) {\n",
              "  const inputElement = document.getElementById(inputId);\n",
              "  inputElement.disabled = false;\n",
              "\n",
              "  const outputElement = document.getElementById(outputId);\n",
              "  outputElement.innerHTML = '';\n",
              "\n",
              "  const pickedPromise = new Promise((resolve) => {\n",
              "    inputElement.addEventListener('change', (e) => {\n",
              "      resolve(e.target.files);\n",
              "    });\n",
              "  });\n",
              "\n",
              "  const cancel = document.createElement('button');\n",
              "  inputElement.parentElement.appendChild(cancel);\n",
              "  cancel.textContent = 'Cancel upload';\n",
              "  const cancelPromise = new Promise((resolve) => {\n",
              "    cancel.onclick = () => {\n",
              "      resolve(null);\n",
              "    };\n",
              "  });\n",
              "\n",
              "  // Wait for the user to pick the files.\n",
              "  const files = yield {\n",
              "    promise: Promise.race([pickedPromise, cancelPromise]),\n",
              "    response: {\n",
              "      action: 'starting',\n",
              "    }\n",
              "  };\n",
              "\n",
              "  cancel.remove();\n",
              "\n",
              "  // Disable the input element since further picks are not allowed.\n",
              "  inputElement.disabled = true;\n",
              "\n",
              "  if (!files) {\n",
              "    return {\n",
              "      response: {\n",
              "        action: 'complete',\n",
              "      }\n",
              "    };\n",
              "  }\n",
              "\n",
              "  for (const file of files) {\n",
              "    const li = document.createElement('li');\n",
              "    li.append(span(file.name, {fontWeight: 'bold'}));\n",
              "    li.append(span(\n",
              "        `(${file.type || 'n/a'}) - ${file.size} bytes, ` +\n",
              "        `last modified: ${\n",
              "            file.lastModifiedDate ? file.lastModifiedDate.toLocaleDateString() :\n",
              "                                    'n/a'} - `));\n",
              "    const percent = span('0% done');\n",
              "    li.appendChild(percent);\n",
              "\n",
              "    outputElement.appendChild(li);\n",
              "\n",
              "    const fileDataPromise = new Promise((resolve) => {\n",
              "      const reader = new FileReader();\n",
              "      reader.onload = (e) => {\n",
              "        resolve(e.target.result);\n",
              "      };\n",
              "      reader.readAsArrayBuffer(file);\n",
              "    });\n",
              "    // Wait for the data to be ready.\n",
              "    let fileData = yield {\n",
              "      promise: fileDataPromise,\n",
              "      response: {\n",
              "        action: 'continue',\n",
              "      }\n",
              "    };\n",
              "\n",
              "    // Use a chunked sending to avoid message size limits. See b/62115660.\n",
              "    let position = 0;\n",
              "    do {\n",
              "      const length = Math.min(fileData.byteLength - position, MAX_PAYLOAD_SIZE);\n",
              "      const chunk = new Uint8Array(fileData, position, length);\n",
              "      position += length;\n",
              "\n",
              "      const base64 = btoa(String.fromCharCode.apply(null, chunk));\n",
              "      yield {\n",
              "        response: {\n",
              "          action: 'append',\n",
              "          file: file.name,\n",
              "          data: base64,\n",
              "        },\n",
              "      };\n",
              "\n",
              "      let percentDone = fileData.byteLength === 0 ?\n",
              "          100 :\n",
              "          Math.round((position / fileData.byteLength) * 100);\n",
              "      percent.textContent = `${percentDone}% done`;\n",
              "\n",
              "    } while (position < fileData.byteLength);\n",
              "  }\n",
              "\n",
              "  // All done.\n",
              "  yield {\n",
              "    response: {\n",
              "      action: 'complete',\n",
              "    }\n",
              "  };\n",
              "}\n",
              "\n",
              "scope.google = scope.google || {};\n",
              "scope.google.colab = scope.google.colab || {};\n",
              "scope.google.colab._files = {\n",
              "  _uploadFiles,\n",
              "  _uploadFilesContinue,\n",
              "};\n",
              "})(self);\n",
              "</script> "
            ]
          },
          "metadata": {}
        },
        {
          "output_type": "stream",
          "name": "stdout",
          "text": [
            "Saving data.csv to data.csv\n",
            "Statistics summary saved as 'statistics_summary.csv'.\n"
          ]
        },
        {
          "output_type": "display_data",
          "data": {
            "text/plain": [
              "<IPython.core.display.Javascript object>"
            ],
            "application/javascript": [
              "\n",
              "    async function download(id, filename, size) {\n",
              "      if (!google.colab.kernel.accessAllowed) {\n",
              "        return;\n",
              "      }\n",
              "      const div = document.createElement('div');\n",
              "      const label = document.createElement('label');\n",
              "      label.textContent = `Downloading \"${filename}\": `;\n",
              "      div.appendChild(label);\n",
              "      const progress = document.createElement('progress');\n",
              "      progress.max = size;\n",
              "      div.appendChild(progress);\n",
              "      document.body.appendChild(div);\n",
              "\n",
              "      const buffers = [];\n",
              "      let downloaded = 0;\n",
              "\n",
              "      const channel = await google.colab.kernel.comms.open(id);\n",
              "      // Send a message to notify the kernel that we're ready.\n",
              "      channel.send({})\n",
              "\n",
              "      for await (const message of channel.messages) {\n",
              "        // Send a message to notify the kernel that we're ready.\n",
              "        channel.send({})\n",
              "        if (message.buffers) {\n",
              "          for (const buffer of message.buffers) {\n",
              "            buffers.push(buffer);\n",
              "            downloaded += buffer.byteLength;\n",
              "            progress.value = downloaded;\n",
              "          }\n",
              "        }\n",
              "      }\n",
              "      const blob = new Blob(buffers, {type: 'application/binary'});\n",
              "      const a = document.createElement('a');\n",
              "      a.href = window.URL.createObjectURL(blob);\n",
              "      a.download = filename;\n",
              "      div.appendChild(a);\n",
              "      a.click();\n",
              "      div.remove();\n",
              "    }\n",
              "  "
            ]
          },
          "metadata": {}
        },
        {
          "output_type": "display_data",
          "data": {
            "text/plain": [
              "<IPython.core.display.Javascript object>"
            ],
            "application/javascript": [
              "download(\"download_15c15653-32d9-4934-b046-278f4b6fae46\", \"statistics_summary.csv\", 96)"
            ]
          },
          "metadata": {}
        }
      ],
      "source": [
        "import pandas as pd\n",
        "from google.colab import files\n",
        "\n",
        "print(\"Please upload the data.csv file.\")\n",
        "uploaded = files.upload()\n",
        "file_name = list(uploaded.keys())[0]\n",
        "data = pd.read_csv(file_name, skiprows=1, header=None, names=[\"Values\"])\n",
        "\n",
        "try:\n",
        "    column_data = pd.to_numeric(data['Values'], errors='coerce').dropna()\n",
        "\n",
        "    statistics = {\n",
        "        \"Mean\": column_data.mean(),\n",
        "        \"Median\": column_data.median(),\n",
        "        \"Mode\": column_data.mode().iloc[0] if not column_data.mode().empty else \"No mode\",\n",
        "        \"Standard Deviation\": column_data.std(),\n",
        "        \"Variance\": column_data.var(),\n",
        "    }\n",
        "\n",
        "    stats_df = pd.DataFrame([statistics])\n",
        "    stats_df.to_csv(\"statistics_summary.csv\", index=False)\n",
        "    print(\"Statistics summary saved as 'statistics_summary.csv'.\")\n",
        "\n",
        "    files.download(\"statistics_summary.csv\")\n",
        "\n",
        "except Exception as e:\n",
        "    print(f\"An error occurred: {e}\")"
      ]
    },
    {
      "cell_type": "code",
      "source": [
        "# 2. Use the dataset [2.0, 4.5, 4.5, 5.0, 7.0, 8.0, 10.0] to:\n",
        "# Manually calculate mean, median, and mode.\n",
        "# Verify the results using Python’s statistics module."
      ],
      "metadata": {
        "id": "u5R5o6hQGr47"
      },
      "execution_count": null,
      "outputs": []
    },
    {
      "cell_type": "code",
      "source": [
        "import statistics as sts\n",
        "\n",
        "data = [2.0,4.5,4.5,5.0,7.0,8.0,10.0]\n",
        "\n",
        "print(\"manualMean: \", sum(data)/len(data))\n",
        "data.sort()\n",
        "print(\"manualMedian: \", data[len(data)//2])\n",
        "unique_numbers = list(set(data))\n",
        "frequency = [0] * len(unique_numbers)\n",
        "\n",
        "for number in data:\n",
        "    index = unique_numbers.index(number)\n",
        "    frequency[index] += 1\n",
        "max_frequency = max(frequency)\n",
        "mode_index = frequency.index(max_frequency)\n",
        "mode = unique_numbers[mode_index]\n",
        "print(\"manualMode: \", mode)\n",
        "\n",
        "print(\"\\nstatsMean: \", sts.mean(data))\n",
        "print(\"statsMedian: \", sts.median(data))\n",
        "print(\"statsMode: \", sts.mode(data))\n"
      ],
      "metadata": {
        "colab": {
          "base_uri": "https://localhost:8080/"
        },
        "id": "KXImDwMCQx9F",
        "outputId": "81316db2-613c-490a-f239-198aeb07f1df"
      },
      "execution_count": null,
      "outputs": [
        {
          "output_type": "stream",
          "name": "stdout",
          "text": [
            "manualMean:  5.857142857142857\n",
            "manualMedian:  5.0\n",
            "manualMode:  4.5\n",
            "\n",
            "statsMean:  5.857142857142857\n",
            "statsMedian:  5.0\n",
            "statsMode:  4.5\n"
          ]
        }
      ]
    },
    {
      "cell_type": "code",
      "source": [
        "# 3.Create an array of shape (4, 3, 2) representing a 3D matrix.\n",
        "# Print the shape and the number of dimensions (ndim) of the array.\n",
        "# Reshape the array into a 2D matrix of shape (12, 2) and verify the new shape and number of dimensions.\n",
        "# Create a scalar array with the value 7 and print its shape and dimensions."
      ],
      "metadata": {
        "id": "Cx3iU-LQeAud"
      },
      "execution_count": null,
      "outputs": []
    },
    {
      "cell_type": "code",
      "source": [
        "import numpy as np\n",
        "import random as rnd\n",
        "\n",
        "arrold = [[[rnd.randint(1, 100) for _ in range(2)] for _ in range(3)] for _ in range(4)]\n",
        "arrold = np.array(arrold)\n",
        "print(arrold)\n",
        "print(arrold.shape)\n",
        "\n",
        "arr_2d = arrold.reshape(12, 2)\n",
        "print(arr_2d)\n",
        "print(arr_2d.shape)\n",
        "\n",
        "scalar = 7\n",
        "scalarArray = np.array(scalar)\n",
        "print(scalarArray)\n",
        "print(scalarArray.shape)"
      ],
      "metadata": {
        "id": "PjVfhOW7Rp2S",
        "colab": {
          "base_uri": "https://localhost:8080/"
        },
        "outputId": "39f0bcbb-383e-49c3-966e-8cf1e3686f10"
      },
      "execution_count": null,
      "outputs": [
        {
          "output_type": "stream",
          "name": "stdout",
          "text": [
            "[[[ 34  44]\n",
            "  [ 14  70]\n",
            "  [ 57  94]]\n",
            "\n",
            " [[ 34   2]\n",
            "  [ 53   9]\n",
            "  [100   9]]\n",
            "\n",
            " [[ 92   1]\n",
            "  [100  64]\n",
            "  [ 27  65]]\n",
            "\n",
            " [[ 22  97]\n",
            "  [ 83  53]\n",
            "  [ 37  79]]]\n",
            "(4, 3, 2)\n",
            "[[ 34  44]\n",
            " [ 14  70]\n",
            " [ 57  94]\n",
            " [ 34   2]\n",
            " [ 53   9]\n",
            " [100   9]\n",
            " [ 92   1]\n",
            " [100  64]\n",
            " [ 27  65]\n",
            " [ 22  97]\n",
            " [ 83  53]\n",
            " [ 37  79]]\n",
            "(12, 2)\n",
            "7\n",
            "()\n"
          ]
        }
      ]
    },
    {
      "cell_type": "code",
      "source": [
        "# 4. Create a random 4x4 matrix and print its values. Then, find the sum of the elements across both axes (i.e., sum along rows and sum along columns).\n",
        "#Create a 5x5 identity matrix and modify the middle element (at position [2,2]) to 99. Print the modified matrix.\n",
        "#Create a 3x3 matrix with random values, then flip the matrix left-right to get the opposite diagonal (anti-diagonal)."
      ],
      "metadata": {
        "id": "lqfjFP6oedbb"
      },
      "execution_count": null,
      "outputs": []
    },
    {
      "cell_type": "code",
      "source": [
        "data = np.array([[rnd.randint(1,50) for _ in range(4)] for _ in range(4)])\n",
        "sumColn = np.sum(data, axis=0)\n",
        "print(sumColn)\n",
        "sumRows = np.sum(data, axis=1)\n",
        "print()\n",
        "print(sumRows)\n",
        "\n",
        "idenMatrix = np.identity(5)\n",
        "idenMatrix[2,2,] = 99\n",
        "print(idenMatrix)\n",
        "\n",
        "data = np.array([[rnd.randint(1,50) for _ in range(3)] for _ in range(3)])\n",
        "data = np.fliplr(data)\n",
        "print(data)"
      ],
      "metadata": {
        "colab": {
          "base_uri": "https://localhost:8080/"
        },
        "id": "TYjE_caXS6Y3",
        "outputId": "532fa2a7-da27-43b5-807f-c7382bb15a45"
      },
      "execution_count": null,
      "outputs": [
        {
          "output_type": "stream",
          "name": "stdout",
          "text": [
            "[111 158 120  97]\n",
            "\n",
            "[111 115 106 154]\n",
            "[[ 1.  0.  0.  0.  0.]\n",
            " [ 0.  1.  0.  0.  0.]\n",
            " [ 0.  0. 99.  0.  0.]\n",
            " [ 0.  0.  0.  1.  0.]\n",
            " [ 0.  0.  0.  0.  1.]]\n",
            "[[40 49 25]\n",
            " [43 25 50]\n",
            " [26 35 38]]\n"
          ]
        }
      ]
    },
    {
      "cell_type": "code",
      "source": [
        "import pandas as pd\n",
        "import numpy as np\n",
        "\n",
        "# Set a seed for reproducibility\n",
        "np.random.seed(42)    Display the final result.\n",
        "\n",
        "\n",
        "\n",
        "\n",
        "\n",
        "Array Manipulation\n",
        "\n",
        "    Create a 1D array with values from 1 to 20.\n",
        "    Reshape the array into a 4x5 matrix.\n",
        "    Flatten the reshaped matrix back into a 1D array.\n",
        "    ind the mean, standard deviation, and sum of the reshaped matrix.\n",
        "\n",
        "\n",
        "\n",
        "# Generate a random dataset\n",
        "num_samples = 100\n",
        "\n",
        "data = {\n",
        "    \"ID\": range(1, num_samples + 1),\n",
        "    \"Age\": np.random.randint(18, 60, size=num_samples),\n",
        "    \"Height_cm\": np.random.normal(165, 10, num_samples).round(1),\n",
        "    \"Weight_kg\": np.random.normal(70, 15, num_samples).round(1),\n",
        "    \"City\": np.random.choice([\"New York\", \"Los Angeles\", \"Chicago\", \"Houston\", \"Phoenix\"], size=num_samples),\n",
        "    \"Grade\": np.random.choice([\"A\", \"B\", \"C\", \"D\", \"F\"], size=num_samples),\n",
        "    \"Monthly_Income\": np.random.randint(2000, 10000, size=num_samples),\n",
        "    \"Hours_Studied\": np.random.exponential(5, num_samples).round(1),\n",
        "    \"Passed\": np.random.choice([\"Yes\", \"No\"], size=num_samples, p=[0.8, 0.2]),\n",
        "    \"Category\": np.random.choice([\"Category 1\", \"Category 2\", \"Category 3\"], size=num_samples),\n",
        "    \"Test_Score\": np.random.uniform(50, 100, size=num_samples).round(2),\n",
        "\n",
        "    \"Exercise_Hours\": np.random.poisson(3, num_samples),\n",
        "    \"Favorite_Color\": np.random.choice([\"Red\", \"Blue\", \"Green\", \"Yellow\", \"Purple\"], size=num_samples),\n",
        "}\n",
        "\n",
        "df = pd.DataFrame(data)\n",
        "\n",
        "# Save to a CSV for reuse\n",
        "df.to_csv(\"random_plotting_dataset.csv\", index=False)\n",
        "\n",
        "# Display the first few rows\n",
        "print(df.head())"
      ],
      "metadata": {
        "colab": {
          "base_uri": "https://localhost:8080/"
        },
        "id": "KbDvaMnUcwMY",
        "outputId": "9e6f79c9-c25d-429d-c4d9-9b73ac0328c2"
      },
      "execution_count": null,
      "outputs": [
        {
          "output_type": "stream",
          "name": "stdout",
          "text": [
            "   ID  Age  Height_cm  Weight_kg         City Grade  Monthly_Income  \\\n",
            "0   1   56      163.3       67.8      Chicago     A            3852   \n",
            "1   2   46      176.6       72.7      Houston     A            6910   \n",
            "2   3   32      162.5       84.5  Los Angeles     A            7268   \n",
            "3   4   25      157.3       54.0      Chicago     D            6175   \n",
            "4   5   38      177.1       71.6      Phoenix     A            4933   \n",
            "\n",
            "   Hours_Studied Passed    Category  Test_Score  Exercise_Hours Favorite_Color  \n",
            "0            9.2    Yes  Category 2       64.40               6           Blue  \n",
            "1            9.1    Yes  Category 1       80.75               2           Blue  \n",
            "2            3.2    Yes  Category 3       95.59               3           Blue  \n",
            "3            2.7    Yes  Category 1       56.96               7           Blue  \n",
            "4            1.6    Yes  Category 1       55.04               0           Blue  \n"
          ]
        }
      ]
    },
    {
      "cell_type": "code",
      "source": [
        "# Create a histogram to show the frequency of different age groups."
      ],
      "metadata": {
        "id": "8rTUkO_3kSCc"
      },
      "execution_count": null,
      "outputs": []
    },
    {
      "cell_type": "code",
      "source": [
        "import pandas as pd\n",
        "file_name = \"random_plotting_dataset.csv\"\n",
        "data = pd.read_csv(file_name)\\\n",
        "\n",
        "ages = data[\"Age\"]\n",
        "uniqueAges, frequencies = np.unique(ages, return_counts=True)\n",
        "ageFreqArr = np.column_stack((uniqueAges, frequencies))\n",
        "\n",
        "sb.histplot(ages, bins = 11, kde= False, color = \"skyblue\")\n",
        "plt.title(\"age and frequencies\")\n",
        "plt.xlabel(\"age\")\n",
        "plt.ylabel(\"frequency\")\n",
        "plt.show()"
      ],
      "metadata": {
        "colab": {
          "base_uri": "https://localhost:8080/",
          "height": 472
        },
        "id": "EYRu6K9igzhz",
        "outputId": "7eebc652-08b3-4e2f-e854-9c35d8fa94a9"
      },
      "execution_count": null,
      "outputs": [
        {
          "output_type": "display_data",
          "data": {
            "text/plain": [
              "<Figure size 640x480 with 1 Axes>"
            ],
            "image/png": "[encoded data removed]"
          },
          "metadata": {}
        }
      ]
    },
    {
      "cell_type": "code",
      "source": [
        "# Use a bar chart to display the count of entries for each City."
      ],
      "metadata": {
        "id": "u-3PGBVUh7rc"
      },
      "execution_count": null,
      "outputs": []
    },
    {
      "cell_type": "code",
      "source": [
        "import pandas as pd\n",
        "\n",
        "file_name = \"random_plotting_dataset.csv\"\n",
        "data = pd.read_csv(file_name)\\\n",
        "\n",
        "cityCounts = data['City'].value_counts()\n",
        "\n",
        "plt.figure(figsize=(5, 5))\n",
        "plt.bar(cityCounts.index, cityCounts.values, color = 'grey')\n",
        "plt.xlabel('city')\n",
        "plt.ylabel('count')\n",
        "plt.title('entries by cities')\n",
        "plt.xticks(rotation=0)\n",
        "plt.show()"
      ],
      "metadata": {
        "id": "9Dzv98_Hkfre",
        "colab": {
          "base_uri": "https://localhost:8080/",
          "height": 487
        },
        "outputId": "f6c137dc-14f4-4d31-c926-f1e2e6eac119"
      },
      "execution_count": null,
      "outputs": [
        {
          "output_type": "display_data",
          "data": {
            "text/plain": [
              "<Figure size 500x500 with 1 Axes>"
            ],
            "image/png": "[encoded data removed]"
          },
          "metadata": {}
        }
      ]
    },
    {
      "cell_type": "code",
      "source": [
        "# Create a pie chart to show the proportion of Passed values."
      ],
      "metadata": {
        "id": "SjOTOzIWp_JO"
      },
      "execution_count": null,
      "outputs": []
    },
    {
      "cell_type": "code",
      "source": [
        "import pandas as pd\n",
        "data = pd.read_csv(\"random_plotting_dataset.csv\")\\\n",
        "\n",
        "passedCounts = data['Passed'].value_counts()\n",
        "\n",
        "plt.figure(figsize=(6, 6))\n",
        "plt.pie(passedCounts.values, labels=passedCounts.index, autopct='%1.2f%%', startangle=25, colors = ['yellow','red'])\n",
        "plt.title('Proportion of Passed Values')\n",
        "plt.show()"
      ],
      "metadata": {
        "colab": {
          "base_uri": "https://localhost:8080/",
          "height": 521
        },
        "id": "f6LzE4RCugw7",
        "outputId": "f7c3cdaa-8526-4fec-fb3d-135f2cb90d96"
      },
      "execution_count": null,
      "outputs": [
        {
          "output_type": "display_data",
          "data": {
            "text/plain": [
              "<Figure size 600x600 with 1 Axes>"
            ],
            "image/png": "[encoded data removed]"
          },
          "metadata": {}
        }
      ]
    },
    {
      "cell_type": "code",
      "source": [
        "# Calculate the rank of a 20x20 binary random matrix, similar to what we did in the activity. But this time, we will go to each cell and generate a 1 with probability \"p\". Plot the rank as a function of p. Any insights? Any conjectures you can make about random matrices?"
      ],
      "metadata": {
        "id": "GaxfQUTW61y5"
      },
      "execution_count": null,
      "outputs": []
    },
    {
      "cell_type": "code",
      "source": [
        "import numpy as np\n",
        "import matplotlib.pyplot as plt\n",
        "\n",
        "def binary_rank(matrix):\n",
        "    matrix = matrix % 2\n",
        "    rows, cols = matrix.shape\n",
        "    rank = 0\n",
        "\n",
        "    for col in range(cols):\n",
        "        pivot_row = -1\n",
        "        for row in range(rank, rows):\n",
        "            if matrix[row, col] == 1:\n",
        "                pivot_row = row\n",
        "                break\n",
        "\n",
        "        if pivot_row == -1:\n",
        "            continue\n",
        "        if pivot_row != rank:\n",
        "            matrix[[rank, pivot_row]] = matrix[[pivot_row, rank]]\n",
        "        for row in range(rank + 1, rows):\n",
        "            if matrix[row, col] == 1:\n",
        "                matrix[row] = (matrix[row] + matrix[rank]) % 2\n",
        "        rank += 1\n",
        "    return rank\n",
        "\n",
        "def analyze_rank(p_values, matrix_size=(20, 20)):\n",
        "    ranks = []\n",
        "    for p in p_values:\n",
        "        matrix = np.random.choice([0, 1], size=matrix_size, p=[1-p, p])\n",
        "        ranks.append(binary_rank(matrix))\n",
        "    return ranks\n",
        "\n",
        "matrix_size = (20, 20)\n",
        "p_values = np.linspace(0.01, 0.99, 50)\n",
        "ranks = analyze_rank(p_values, matrix_size)\n",
        "\n",
        "plt.figure(figsize=(10, 5))\n",
        "plt.plot(p_values, ranks, marker='o', linestyle='-', color='g')\n",
        "plt.title('rank vs p')\n",
        "plt.xlabel('p')\n",
        "plt.ylabel('rank')\n",
        "plt.grid(True)\n",
        "plt.show()\n",
        "\n",
        "# From the histogram, we can observe that ranks of randomly generated matrices are nearly full (especially when p is between 0.2 to 0.8)"
      ],
      "metadata": {
        "colab": {
          "base_uri": "https://localhost:8080/",
          "height": 487
        },
        "id": "E4eTxCX-61nf",
        "outputId": "735e20b5-67da-4df6-e5de-b252ed24ee71"
      },
      "execution_count": null,
      "outputs": [
        {
          "output_type": "display_data",
          "data": {
            "text/plain": [
              "<Figure size 1000x500 with 1 Axes>"
            ],
            "image/png": "[encoded data removed]"
          },
          "metadata": {}
        }
      ]
    },
    {
      "cell_type": "code",
      "source": [
        "# Now generate a binary random matrix of size 1920 x 1080. Imagine 1s to be land and 0s to be water. Write a program to count the number of islands in your matrix. Study the following: number of islands, size of the largest island and plot them for varying values of \"p\"."
      ],
      "metadata": {
        "id": "dJFgPIgzunDU"
      },
      "execution_count": null,
      "outputs": []
    },
    {
      "cell_type": "code",
      "source": [
        "import numpy as np\n",
        "import matplotlib.pyplot as plt\n",
        "\n",
        "def dfs(matrix, visited, i, j):\n",
        "    stack, size = [(i, j)], 0\n",
        "    visited[i, j] = True\n",
        "    while stack:\n",
        "        x, y = stack.pop()\n",
        "        size += 1\n",
        "        for dx, dy in [(-1, 0), (1, 0), (0, -1), (0, 1), (-1, -1), (-1, 1), (1, -1), (1, 1)]:\n",
        "            nx, ny = x + dx, y + dy\n",
        "            if 0 <= nx < matrix.shape[0] and 0 <= ny < matrix.shape[1] and not visited[nx, ny] and matrix[nx, ny] == 1:\n",
        "                visited[nx, ny] = True\n",
        "                stack.append((nx, ny))\n",
        "    return size\n",
        "\n",
        "def count_islands(matrix):\n",
        "    visited = np.zeros_like(matrix, dtype=bool)\n",
        "    num_islands, largest_island_size = 0, 0\n",
        "    for i in range(matrix.shape[0]):\n",
        "        for j in range(matrix.shape[1]):\n",
        "            if matrix[i, j] == 1 and not visited[i, j]:\n",
        "                num_islands += 1\n",
        "                largest_island_size = max(largest_island_size, dfs(matrix, visited, i, j))\n",
        "    return num_islands, largest_island_size\n",
        "\n",
        "def analyze_islands(p, matrix_size=(1920, 1080)):\n",
        "    matrix = np.random.choice([0, 1], size=matrix_size, p=[1-p, p])\n",
        "    return count_islands(matrix)\n",
        "\n",
        "p_values = np.linspace(0.01, 0.99, 20)\n",
        "num_islands_list, largest_island_list = zip(*[analyze_islands(p) for p in p_values])\n",
        "\n",
        "plt.figure(figsize=(10, 5))\n",
        "plt.subplot(1, 2, 1)\n",
        "plt.plot(p_values, num_islands_list, marker='o', color='magenta')\n",
        "plt.title('Number of Islands vs p')\n",
        "plt.xlabel('Probability p')\n",
        "plt.ylabel('Number of Islands')\n",
        "plt.grid(True)\n",
        "\n",
        "plt.subplot(1, 2, 2)\n",
        "plt.plot(p_values, largest_island_list, marker='o', color='purple')\n",
        "plt.title('size vs vs p')\n",
        "plt.xlabel('p')\n",
        "plt.ylabel('size')\n",
        "plt.grid(True)\n",
        "\n",
        "plt.tight_layout()\n",
        "plt.show()"
      ],
      "metadata": {
        "colab": {
          "base_uri": "https://localhost:8080/",
          "height": 507
        },
        "id": "z5c4ojg8vL4y",
        "outputId": "52f3cc30-adb9-4464-ca4f-557469c29978"
      },
      "execution_count": null,
      "outputs": [
        {
          "output_type": "display_data",
          "data": {
            "text/plain": [
              "<Figure size 1000x500 with 2 Axes>"
            ],
            "image/png": "[encoded data removed]"
          },
          "metadata": {}
        }
      ]
    },
    {
      "cell_type": "code",
      "source": [
        "# Class Assignment: Create a NumPy array of 20 elements (from 1 to 20). Using slicing, extract:\n",
        "# The first 5 elements.\n",
        "# The elements from index 5 to 15.\n",
        "# The last 3 elements"
      ],
      "metadata": {
        "id": "8NROdFD2VUCE"
      },
      "execution_count": null,
      "outputs": []
    },
    {
      "cell_type": "code",
      "source": [
        "import numpy as np\n",
        "data = np.linspace(1,20,20)\n",
        "\n",
        "print(data[:5])\n",
        "print(data[5:15])\n",
        "print(data[-3:])"
      ],
      "metadata": {
        "id": "OBtql3Fc7mNS",
        "colab": {
          "base_uri": "https://localhost:8080/"
        },
        "outputId": "116301a7-622f-4047-9df3-a10d3a248f2d"
      },
      "execution_count": null,
      "outputs": [
        {
          "output_type": "stream",
          "name": "stdout",
          "text": [
            "[1. 2. 3. 4. 5.]\n",
            "[ 6.  7.  8.  9. 10. 11. 12. 13. 14. 15.]\n",
            "[18. 19. 20.]\n"
          ]
        }
      ]
    },
    {
      "cell_type": "code",
      "source": [
        "# Class Assignment: Create a NumPy array of 10 random integers. Use np.argsort() to get the indices that would sort the array in ascending order, then print the sorted array using these indices."
      ],
      "metadata": {
        "id": "EcoNOCuNK3it"
      },
      "execution_count": null,
      "outputs": []
    },
    {
      "cell_type": "code",
      "source": [
        "import random as rnd\n",
        "\n",
        "data = np.array([rnd.randint(1, 10) for _ in range(10)])\n",
        "indices = np.argsort(data)\n",
        "print(data[indices])"
      ],
      "metadata": {
        "colab": {
          "base_uri": "https://localhost:8080/"
        },
        "id": "wrIrlZhEVrtQ",
        "outputId": "15604356-a3f5-4515-9b8f-4b579d15723a"
      },
      "execution_count": null,
      "outputs": [
        {
          "output_type": "stream",
          "name": "stdout",
          "text": [
            "[1 1 2 3 4 4 7 7 9 9]\n"
          ]
        }
      ]
    },
    {
      "cell_type": "code",
      "source": [
        "# Create a 1D NumPy array of 10 integers and randomly replace 2 elements with np.nan. Replace all NaN values in the array with the number 0."
      ],
      "metadata": {
        "id": "uTppvRiWWmO4"
      },
      "execution_count": null,
      "outputs": []
    },
    {
      "cell_type": "code",
      "source": [
        "arr = np.array([rnd.randint(1, 10) for _ in range(10)], dtype=float)\n",
        "indices = np.random.choice(len(arr), size=2, replace=False)\n",
        "arr[indices] = np.nan\n",
        "arr[np.isnan(arr)] = 0\n",
        "print(arr)"
      ],
      "metadata": {
        "colab": {
          "base_uri": "https://localhost:8080/"
        },
        "id": "0xpDy9kTXCKy",
        "outputId": "6fd4bf52-276b-4073-85d0-219d9d43afad"
      },
      "execution_count": null,
      "outputs": [
        {
          "output_type": "stream",
          "name": "stdout",
          "text": [
            "[2. 4. 6. 9. 5. 0. 3. 6. 0. 8.]\n"
          ]
        }
      ]
    },
    {
      "cell_type": "code",
      "source": [
        "#Create/Append two new columns named Marks, Department in mydf and display it\n",
        "#Save the newly create mydf to a csv file. (Name of file = myDataframe_YourIDNumber.csv)\n",
        "#Filter all the rows where Age falls between 25-30."
      ],
      "metadata": {
        "id": "qxX8tyr1YtxA"
      },
      "execution_count": null,
      "outputs": []
    },
    {
      "cell_type": "code",
      "source": [
        "import pandas as pd\n",
        "import random as rnd\n",
        "\n",
        "mydf = pd.read_csv(\"names.csv\")\n",
        "mydf['Marks'] = [45, 70, 39, 67, 79, 90, 93, 62]\n",
        "mydf['Department'] = ['CSE','CSE','EE','ME','DSAI','EE','MT','MSME']\n",
        "mydf.to_csv('myDataframe_12340530.csv', index=False)\n",
        "filtered_df = mydf[(mydf['Age'] >= 25) & (mydf['Age'] <= 30)]\n",
        "print(filtered_df)"
      ],
      "metadata": {
        "colab": {
          "base_uri": "https://localhost:8080/"
        },
        "id": "GhRFS8-0YuEr",
        "outputId": "d1d4d607-cbf6-4ec2-ce40-a14a7a4d63cd"
      },
      "execution_count": null,
      "outputs": [
        {
          "output_type": "stream",
          "name": "stdout",
          "text": [
            "      Name  Age  Marks Department\n",
            "0    Alice   25     45        CSE\n",
            "1      Bob   30     70        CSE\n",
            "4     John   26     79       DSAI\n",
            "5  William   28     90         EE\n",
            "6    Caleb   25     93         MT\n",
            "7    Helen   30     62       MSME\n"
          ]
        }
      ]
    },
    {
      "cell_type": "code",
      "source": [
        "#mydf dataframe on the basis of Name,Marks.\n"
      ],
      "metadata": {
        "id": "KoWKak6gfMyP"
      },
      "execution_count": null,
      "outputs": []
    },
    {
      "cell_type": "code",
      "source": [
        "mydf = pd.read_csv(\"myDataframe_12340530.csv\")\n",
        "\n",
        "byname = mydf.sort_values(by=['Name'])\n",
        "bymarks = mydf.sort_values(by=['Marks'])\n",
        "print(byname)\n",
        "print(\"\\n\")\n",
        "print(bymarks)"
      ],
      "metadata": {
        "colab": {
          "base_uri": "https://localhost:8080/"
        },
        "id": "H8WbJo-gf85h",
        "outputId": "a963eeda-b1e7-49b3-89de-a6812f86031d"
      },
      "execution_count": null,
      "outputs": [
        {
          "output_type": "stream",
          "name": "stdout",
          "text": [
            "      Name  Age  Marks Department\n",
            "0    Alice   25     45        CSE\n",
            "1      Bob   30     70        CSE\n",
            "6    Caleb   25     93         MT\n",
            "2  Charlie   35     39         EE\n",
            "7    Helen   30     62       MSME\n",
            "3    James   23     67         ME\n",
            "4     John   26     79       DSAI\n",
            "5  William   28     90         EE\n",
            "\n",
            "\n",
            "      Name  Age  Marks Department\n",
            "2  Charlie   35     39         EE\n",
            "0    Alice   25     45        CSE\n",
            "7    Helen   30     62       MSME\n",
            "3    James   23     67         ME\n",
            "1      Bob   30     70        CSE\n",
            "4     John   26     79       DSAI\n",
            "5  William   28     90         EE\n",
            "6    Caleb   25     93         MT\n"
          ]
        }
      ]
    },
    {
      "cell_type": "code",
      "source": [
        "#Read myStudentDataFrame.csv\n",
        "#Check for missing data in all columns using appropriate pandas functions.\n",
        "#Drop Rows with Missing Data\n",
        "#Compute Summary Statistics (AVG,MEAN,MAX,MIN)\n",
        "#Filter Data and Compute Pass/Fail\n",
        "#mark >= 40: Pass\n",
        "#mark < 40: Fail\n",
        "#Add a new column Result to the DataFrame indicating Pass or Fail.\n",
        "#Save the Final DataFrame\n",
        "#Save the updated DataFrame (with the Result column) to a new CSV file named Result_YourIDNumber.csv."
      ],
      "metadata": {
        "id": "esllfH-CgGiE"
      },
      "execution_count": null,
      "outputs": []
    },
    {
      "cell_type": "code",
      "source": [
        "from re import A\n",
        "import pandas as pd\n",
        "import statistics as sts\n",
        "df = pd.read_csv(\"myStudentDataFrame.csv\")\\\n",
        "\n",
        "print(pd.isnull(df))\n",
        "df = df.dropna()\n",
        "avg = sts.mean(df['mark'])\n",
        "mean = sts.mean(df['mark'])\n",
        "max = df['mark'].max()\n",
        "min = df['mark'].min()\n",
        "filtered_df = df[(df['mark'] >= 40) & (df['mark'] < 40)]\n",
        "df['Result'] = df['mark'].apply(lambda x: 'Pass' if x >= 40 else 'Fail')\n",
        "df.to_csv('Result_12340530.csv', index=False)\n",
        "print(avg)\n",
        "print(mean)\n",
        "print(max)\n",
        "print(min)\n",
        "print(filtered_df)"
      ],
      "metadata": {
        "colab": {
          "base_uri": "https://localhost:8080/"
        },
        "id": "WS0u5GS0hPdB",
        "outputId": "f219c5d1-c346-4e70-a639-69c47012fc7c"
      },
      "execution_count": null,
      "outputs": [
        {
          "output_type": "stream",
          "name": "stdout",
          "text": [
            "     name  class   mark  gender\n",
            "0   False  False  False   False\n",
            "1   False  False  False   False\n",
            "2   False  False  False   False\n",
            "3   False  False  False   False\n",
            "4   False  False  False   False\n",
            "5   False  False  False   False\n",
            "6   False  False  False   False\n",
            "7   False  False  False   False\n",
            "8   False  False  False   False\n",
            "9   False  False  False   False\n",
            "10  False  False  False   False\n",
            "11  False  False  False    True\n",
            "12  False   True  False   False\n",
            "13  False  False  False   False\n",
            "14  False  False  False   False\n",
            "15  False  False  False    True\n",
            "16  False   True  False   False\n",
            "17  False  False   True   False\n",
            "18  False  False  False   False\n",
            "19  False  False  False   False\n",
            "20  False  False  False   False\n",
            "21  False  False  False   False\n",
            "22  False  False  False   False\n",
            "23  False  False  False    True\n",
            "24  False  False  False   False\n",
            "25  False  False  False   False\n",
            "26  False  False  False   False\n",
            "27  False  False  False   False\n",
            "28  False  False  False   False\n",
            "29  False  False   True   False\n",
            "30  False  False  False   False\n",
            "31  False  False  False   False\n",
            "32  False  False  False   False\n",
            "33  False  False  False   False\n",
            "34  False  False  False   False\n",
            "73.46428571428571\n",
            "73.46428571428571\n",
            "96.0\n",
            "18.0\n",
            "Empty DataFrame\n",
            "Columns: [name, class, mark, gender]\n",
            "Index: []\n"
          ]
        }
      ]
    }
  ]
}