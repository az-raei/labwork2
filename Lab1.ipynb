{
  "nbformat": 4,
  "nbformat_minor": 0,
  "metadata": {
    "colab": {
      "provenance": []
    },
    "kernelspec": {
      "name": "python3",
      "display_name": "Python 3"
    },
    "language_info": {
      "name": "python"
    }
  },
  "cells": [
    {
      "cell_type": "code",
      "source": [
        "#Prime Number"
      ],
      "metadata": {
        "id": "hun7x1dnGsRg"
      },
      "execution_count": null,
      "outputs": []
    },
    {
      "cell_type": "code",
      "source": [
        "def isPrime(num):\n",
        "  a = num // 2\n",
        "  for i in range(2, a):\n",
        "    if num % i == 0:\n",
        "      return False\n",
        "  return True # check if number is prime\n",
        "\n",
        "def checkPrimeForm(num):\n",
        "  if num % 6 == 1 or num % 6 == 5:\n",
        "    return True\n",
        "  return False # check if number is in 6k+-1 form\n",
        "\n",
        "newlist1 = []\n",
        "for i in range(1100, 1200):\n",
        "    if isPrime(i):\n",
        "      if checkPrimeForm(i):\n",
        "        newlist1.append((i, \"Yes\")) # append as a tuple\n",
        "      else:\n",
        "        newlist1.append((i, \"No\")) # append as a tuple\n",
        "print(newlist1)"
      ],
      "metadata": {
        "colab": {
          "base_uri": "https://localhost:8080/"
        },
        "id": "xZ3Ja_E2Mhfk",
        "outputId": "e8822cce-68b4-4fa9-b311-3f2cc97722d4"
      },
      "execution_count": null,
      "outputs": [
        {
          "output_type": "stream",
          "name": "stdout",
          "text": [
            "[(1103, 'Yes'), (1109, 'Yes'), (1117, 'Yes'), (1123, 'Yes'), (1129, 'Yes'), (1151, 'Yes'), (1153, 'Yes'), (1163, 'Yes'), (1171, 'Yes'), (1181, 'Yes'), (1187, 'Yes'), (1193, 'Yes')]\n"
          ]
        }
      ]
    },
    {
      "cell_type": "code",
      "source": [
        "#Fibonacci convergence"
      ],
      "metadata": {
        "id": "7MFs6o2-TmVL"
      },
      "execution_count": null,
      "outputs": []
    },
    {
      "cell_type": "code",
      "source": [
        "def fibo_ratio(num):\n",
        "  if num <= 1:\n",
        "    return 1\n",
        "  a, b = 0, 1 # Initialize a and b\n",
        "  for _ in range(2, num + 1):\n",
        "    a, b = b, a + b\n",
        "  return b / a\n",
        "\n",
        "num = 3 #find where it converges\n",
        "while True:\n",
        "  ratio_num = fibo_ratio(num)\n",
        "  minus1 = fibo_ratio(num-1)\n",
        "\n",
        "  if abs(ratio_num - minus1) < 0.001:\n",
        "    print(f\"converges at n = {num}\")\n",
        "    break\n",
        "\n",
        "  num = num + 1"
      ],
      "metadata": {
        "colab": {
          "base_uri": "https://localhost:8080/"
        },
        "id": "pRU3wqBjWada",
        "outputId": "4d638c2a-0dcd-4480-c976-44e2127e18a2"
      },
      "execution_count": null,
      "outputs": [
        {
          "output_type": "stream",
          "name": "stdout",
          "text": [
            "converges at n = 11\n"
          ]
        }
      ]
    },
    {
      "cell_type": "code",
      "source": [
        "#Perfect number"
      ],
      "metadata": {
        "id": "7GTE_ujfaa_Q"
      },
      "execution_count": null,
      "outputs": []
    },
    {
      "cell_type": "code",
      "source": [
        "def is_perfect(num):\n",
        "  if num <= 1:\n",
        "    return False\n",
        "  sum = 0\n",
        "  for i in range(1, num):\n",
        "    if num % i == 0:\n",
        "      sum = sum + i\n",
        "  return sum == num\n",
        "\n",
        "\n",
        "perfect_numbers = []\n",
        "for i in range(1, 10001):\n",
        "  if is_perfect(i):\n",
        "    perfect_numbers.append(i)\n",
        "\n",
        "perfect_numbers"
      ],
      "metadata": {
        "colab": {
          "base_uri": "https://localhost:8080/"
        },
        "id": "PC48lE8RaMBk",
        "outputId": "c3fa75f9-26db-4829-d350-8858a18e5ded"
      },
      "execution_count": null,
      "outputs": [
        {
          "output_type": "execute_result",
          "data": {
            "text/plain": [
              "[6, 28, 496, 8128]"
            ]
          },
          "metadata": {},
          "execution_count": 35
        }
      ]
    }
  ]
}
